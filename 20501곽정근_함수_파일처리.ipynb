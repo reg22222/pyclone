{
 "cells": [
  {
   "cell_type": "code",
   "execution_count": null,
   "metadata": {},
   "outputs": [],
   "source": [
    "def Hi():\n",
    "    print(\"Hello World!\")\n",
    "    \n",
    "Hi()\n"
   ]
  },
  {
   "cell_type": "code",
   "execution_count": null,
   "metadata": {},
   "outputs": [],
   "source": [
    "for i in range(5):\n",
    "        for j in range(i+1):\n",
    "            print('*',end=\"\")\n",
    "        print()"
   ]
  },
  {
   "cell_type": "code",
   "execution_count": null,
   "metadata": {},
   "outputs": [],
   "source": [
    "def triangle():\n",
    "    for i in range(5):\n",
    "        for j in range(i+1):\n",
    "            print('*',end=\"\")\n",
    "        print()\n",
    "\n",
    "triangle()"
   ]
  },
  {
   "cell_type": "code",
   "execution_count": null,
   "metadata": {},
   "outputs": [],
   "source": [
    "def name(name):\n",
    "    print(f\"내 이름은 {name}이야. 만나서 반가워\")\n",
    "    \n",
    "name(\"채송화\")\n",
    "name(\"아이유\")"
   ]
  },
  {
   "cell_type": "code",
   "execution_count": null,
   "metadata": {},
   "outputs": [],
   "source": [
    "def even(a):\n",
    "    if a%2 ==0:\n",
    "        print(\"짝수\")\n",
    "    else:\n",
    "        print(\"홀수\")\n",
    "\n",
    "even(11)"
   ]
  },
  {
   "cell_type": "code",
   "execution_count": null,
   "metadata": {},
   "outputs": [],
   "source": [
    "def triangle(n):\n",
    "    for i in range(n):\n",
    "        for j in range(i+1):\n",
    "            print(\"*\",end=\"\")\n",
    "        print()\n",
    "        \n",
    "triangle(4)"
   ]
  },
  {
   "cell_type": "code",
   "execution_count": null,
   "metadata": {},
   "outputs": [],
   "source": [
    "def print_n_times(value,n):\n",
    "    for i in range(n):\n",
    "        print(value)\n",
    "\n",
    "print_n_times(\"안녕하세요\",2)\n",
    "print_n_times(\"반가워요\",3)"
   ]
  },
  {
   "cell_type": "code",
   "execution_count": null,
   "metadata": {},
   "outputs": [],
   "source": [
    "def avg(a,b,c):\n",
    "    sum = a+b+c\n",
    "    print(sum/3)\n",
    "\n",
    "avg(3,5,10)"
   ]
  },
  {
   "cell_type": "code",
   "execution_count": null,
   "metadata": {},
   "outputs": [],
   "source": [
    "import random\n",
    "\n",
    "def dice_n_times(n):\n",
    "    for i in range(n):\n",
    "        k = random.randint(1,6)\n",
    "        print(i+1,\"번째 주사위 굴린 결과:\",k)\n",
    "\n",
    "dice_n_times(6)"
   ]
  },
  {
   "cell_type": "code",
   "execution_count": null,
   "metadata": {},
   "outputs": [],
   "source": [
    "def intsum(*ints):\n",
    "    sum = 0\n",
    "    for i in ints:\n",
    "        sum+=1\n",
    "    return sum\n",
    "\n",
    "print(intsum(1,2,3))\n",
    "print(intsum(5,7,9,11,13))\n",
    "print(intsum(8,9,6,2,9,7,5,8))\n",
    "\n"
   ]
  },
  {
   "cell_type": "code",
   "execution_count": null,
   "metadata": {},
   "outputs": [],
   "source": [
    "def print_n_times(n,* values):\n",
    "    for i in range(n):\n",
    "        for value in values:\n",
    "            print(value,end=\"\")\n",
    "        print()\n",
    "\n",
    "print_n_times(3,\"안녕하세요\",\"즐거운\",\"파이썬\")"
   ]
  },
  {
   "cell_type": "code",
   "execution_count": null,
   "metadata": {},
   "outputs": [],
   "source": [
    "def add_mul(choice,*args):\n",
    "    if choice == \"add\":\n",
    "        result = 0\n",
    "        for i in args:\n",
    "            result =+i\n",
    "    elif choice == \"mul\":\n",
    "        result = 1\n",
    "        for i in args:\n",
    "            result = result * i\n",
    "    return result\n",
    "\n",
    "print(add_mul('add',1,2,3,4,5))\n",
    "print(add_mul('mul',1,2,3,4,5))"
   ]
  },
  {
   "cell_type": "code",
   "execution_count": null,
   "metadata": {},
   "outputs": [],
   "source": [
    "def star(a,*args):\n",
    "    for i in args:\n",
    "        for j in range(int(i)):\n",
    "            print(a,end=\"\")\n",
    "        print()\n",
    "\n",
    "star('*',3,5,2)"
   ]
  },
  {
   "cell_type": "code",
   "execution_count": null,
   "metadata": {},
   "outputs": [],
   "source": [
    "def print_n_times(value,n=2):\n",
    "    for i in range(n):\n",
    "        print(value)\n",
    "\n",
    "print_n_times(\"안녕하세요\")\n",
    "print_n_times(\"안녕히 가세요\",3)"
   ]
  },
  {
   "cell_type": "code",
   "execution_count": null,
   "metadata": {},
   "outputs": [],
   "source": [
    "def calcstep(begin,end,step=1):\n",
    "    sum = 0\n",
    "    for num in range(begin,end+1,step):\n",
    "        sum+=num\n",
    "    print(\"{}부터 {}까지 숫자 중 {}간격씩 더한 값은\".format(begin,end,step),end='')\n",
    "    return sum\n",
    "print(calcstep(1,100,1))\n",
    "print(calcstep(1,100))"
   ]
  },
  {
   "cell_type": "code",
   "execution_count": null,
   "metadata": {},
   "outputs": [],
   "source": [
    "def fn(a,b,c,d,e):\n",
    "    print(a,b,c,d,e)\n",
    "fn(1,2,3,4,5)\n",
    "fn(a=1,b=2,c=3,d=4,e=5)\n",
    "fn(e=5,c=3,b=2,a=1,d=4)\n",
    "fn(1,2,d=4,c=3,e=5)"
   ]
  },
  {
   "cell_type": "code",
   "execution_count": null,
   "metadata": {},
   "outputs": [],
   "source": [
    "def return_test():\n",
    "    print(\"A위치입니다.\")\n",
    "    return\n",
    "    print(\"B위치입니다.\")\n",
    "\n",
    "return_test()"
   ]
  },
  {
   "cell_type": "code",
   "execution_count": null,
   "metadata": {},
   "outputs": [],
   "source": [
    "def return_test():\n",
    "    return 100\n",
    "value = return_test()\n",
    "print(value)"
   ]
  },
  {
   "cell_type": "code",
   "execution_count": null,
   "metadata": {},
   "outputs": [],
   "source": [
    "def add(a,b):\n",
    "    return a+b\n",
    "\n",
    "value = add(123,300)\n",
    "print(value)"
   ]
  },
  {
   "cell_type": "code",
   "execution_count": null,
   "metadata": {},
   "outputs": [],
   "source": [
    "def big(a,b):\n",
    "    if a>b:\n",
    "        return a\n",
    "    else:\n",
    "        return b\n",
    "\n",
    "value = big(5,11)\n",
    "print(value)"
   ]
  },
  {
   "cell_type": "code",
   "execution_count": null,
   "metadata": {},
   "outputs": [],
   "source": [
    "def sum_to_n(n):\n",
    "    sum = 0\n",
    "    for i in range(1,n+1):\n",
    "        sum += i\n",
    "    return sum\n",
    "\n",
    "sum_to_n(10)"
   ]
  },
  {
   "cell_type": "code",
   "execution_count": null,
   "metadata": {},
   "outputs": [],
   "source": [
    "def min(*numbers):\n",
    "    min_value = numbers[0]\n",
    "    for num in numbers:\n",
    "        if min_value > num:\n",
    "            min_value = num\n",
    "    return min_value\n",
    "\n",
    "result = min(5,2,7,4)\n",
    "print('최소값',result)"
   ]
  },
  {
   "cell_type": "code",
   "execution_count": null,
   "metadata": {},
   "outputs": [],
   "source": [
    "def multi_num(num,start,end):\n",
    "    result = []\n",
    "    for n in range(start,end):\n",
    "        if n % num==0:\n",
    "            result.append(n)\n",
    "    return result\n",
    "\n",
    "mult = multi_num(17,1,200)\n",
    "print(mult)"
   ]
  },
  {
   "cell_type": "code",
   "execution_count": null,
   "metadata": {},
   "outputs": [],
   "source": [
    "def min_max(*args):\n",
    "    min = args[0]\n",
    "    max = args[0]\n",
    "    for arg in args:\n",
    "        if min>arg:\n",
    "            min=arg\n",
    "        if max< arg:\n",
    "            max=arg\n",
    "    return min, max\n",
    "\n",
    "min, max = min_max(52,-3,23,89,-21)\n",
    "print(f\"최소:{min} 최대:{max}\")"
   ]
  },
  {
   "cell_type": "code",
   "execution_count": null,
   "metadata": {},
   "outputs": [],
   "source": [
    "import random\n",
    "def position(number ,title,column):\n",
    "    print(title)\n",
    "    students = list(range(1,number+1))\n",
    "    random.shuffle(students)\n",
    "    pos = \"\"\n",
    "    for i in range(0,number):\n",
    "        if students[i] < 10:\n",
    "            pos = pos+\"0\" + str(students[i])+\"번\\t\"\n",
    "        else:\n",
    "            pos = pos + str(students[i])+\"번\\t\"\n",
    "        if(i+1)% column==0:\n",
    "            pos = pos + '\\n'\n",
    "    print(pos)\n",
    "position(20,title=\"3-2반\",column=5)\n",
    "    "
   ]
  },
  {
   "cell_type": "code",
   "execution_count": 6,
   "metadata": {},
   "outputs": [
    {
     "name": "stdout",
     "output_type": "stream",
     "text": [
      "자기소개를 시작합니다.\n",
      "hi!\n",
      "My name is a !\n",
      "None 님 안녕하세요.\n"
     ]
    }
   ],
   "source": [
    "def hi():\n",
    "    name = input(\"이름은?\")\n",
    "    print('hi!')\n",
    "    print(\"My name is\",name,'!')\n",
    "\n",
    "print(\"자기소개를 시작합니다.\")\n",
    "print(hi(),\"님 안녕하세요.\")"
   ]
  },
  {
   "cell_type": "code",
   "execution_count": 7,
   "metadata": {},
   "outputs": [
    {
     "name": "stdout",
     "output_type": "stream",
     "text": [
      "자기소개를 시작합니다.\n",
      "hi!\n",
      "My name is a !\n",
      "a 님 안녕하세요\n"
     ]
    }
   ],
   "source": [
    "def hi():\n",
    "    name = input(\"이름은?\")\n",
    "    print('hi!')\n",
    "    print('My name is',name,'!')\n",
    "    return name\n",
    "\n",
    "print('자기소개를 시작합니다.')\n",
    "person = hi()\n",
    "print(person,\"님 안녕하세요\")\n",
    "    "
   ]
  },
  {
   "cell_type": "code",
   "execution_count": 8,
   "metadata": {},
   "outputs": [
    {
     "ename": "UnboundLocalError",
     "evalue": "cannot access local variable 'a' where it is not associated with a value",
     "output_type": "error",
     "traceback": [
      "\u001b[0;31m---------------------------------------------------------------------------\u001b[0m",
      "\u001b[0;31mUnboundLocalError\u001b[0m                         Traceback (most recent call last)",
      "Cell \u001b[0;32mIn[8], line 7\u001b[0m\n\u001b[1;32m      4\u001b[0m     \u001b[39mprint\u001b[39m(a,b)\n\u001b[1;32m      6\u001b[0m a,b \u001b[39m=\u001b[39m \u001b[39m5\u001b[39m,\u001b[39m10\u001b[39m\n\u001b[0;32m----> 7\u001b[0m func1()\n",
      "Cell \u001b[0;32mIn[8], line 2\u001b[0m, in \u001b[0;36mfunc1\u001b[0;34m()\u001b[0m\n\u001b[1;32m      1\u001b[0m \u001b[39mdef\u001b[39;00m \u001b[39mfunc1\u001b[39m():\n\u001b[0;32m----> 2\u001b[0m     a \u001b[39m+\u001b[39m\u001b[39m=\u001b[39m \u001b[39m2\u001b[39m\n\u001b[1;32m      3\u001b[0m     b \u001b[39m+\u001b[39m\u001b[39m=\u001b[39m \u001b[39m2\u001b[39m\n\u001b[1;32m      4\u001b[0m     \u001b[39mprint\u001b[39m(a,b)\n",
      "\u001b[0;31mUnboundLocalError\u001b[0m: cannot access local variable 'a' where it is not associated with a value"
     ]
    }
   ],
   "source": [
    "def func1():\n",
    "    a += 2\n",
    "    b += 2\n",
    "    print(a,b)\n",
    "\n",
    "a,b = 5,10\n",
    "func1()\n"
   ]
  },
  {
   "cell_type": "code",
   "execution_count": 9,
   "metadata": {},
   "outputs": [
    {
     "name": "stdout",
     "output_type": "stream",
     "text": [
      "5 10\n"
     ]
    }
   ],
   "source": [
    "def func1():\n",
    "    #a+=2\n",
    "    #b*=2\n",
    "    print(a,b)\n",
    "\n",
    "a,b=5,10\n",
    "func1()\n"
   ]
  },
  {
   "cell_type": "code",
   "execution_count": 11,
   "metadata": {},
   "outputs": [
    {
     "name": "stdout",
     "output_type": "stream",
     "text": [
      "7 20\n",
      "9 40\n"
     ]
    }
   ],
   "source": [
    "def func1():\n",
    "    global a,b\n",
    "    a += 2\n",
    "    b *= 2\n",
    "    print(a,b)\n",
    "\n",
    "a,b,=5,10\n",
    "func1()\n",
    "func1()"
   ]
  },
  {
   "cell_type": "code",
   "execution_count": 12,
   "metadata": {},
   "outputs": [
    {
     "name": "stdout",
     "output_type": "stream",
     "text": [
      "7 20\n",
      "9 40\n",
      "11 80\n",
      "13 160\n",
      "15 320\n"
     ]
    }
   ],
   "source": [
    "def func1():\n",
    "    global a,b\n",
    "    a+=2\n",
    "    b*=2\n",
    "    print(a,b)\n",
    "\n",
    "a,b = 5,10\n",
    "for i in range(5):\n",
    "    func1()"
   ]
  },
  {
   "cell_type": "code",
   "execution_count": 13,
   "metadata": {},
   "outputs": [
    {
     "name": "stdout",
     "output_type": "stream",
     "text": [
      "현재점수 : 5\n",
      "최종점수 : 10\n"
     ]
    }
   ],
   "source": [
    "def reward_penalty(kind,points):\n",
    "    global current_point\n",
    "    print('현재점수 :',current_point)\n",
    "    if kind == '상점':\n",
    "        current_point += points\n",
    "    elif kind == '벌점':\n",
    "        current_point -= points\n",
    "    \n",
    "current_point = 5\n",
    "\n",
    "reward_penalty('상점',5)\n",
    "\n",
    "print('최종점수 :',current_point)"
   ]
  },
  {
   "cell_type": "code",
   "execution_count": null,
   "metadata": {},
   "outputs": [],
   "source": [
    "### 파일처리"
   ]
  },
  {
   "cell_type": "code",
   "execution_count": 3,
   "metadata": {},
   "outputs": [],
   "source": [
    "#ex1 파일열고닫기1\n",
    "\n",
    "file = open('basic.txt','w')\n",
    "file.write('Hello Python Programming...!')\n",
    "file.close()"
   ]
  },
  {
   "cell_type": "code",
   "execution_count": 9,
   "metadata": {},
   "outputs": [],
   "source": [
    "#ex2 파일열고닫기2\n",
    "with open('basic.txt','w') as file:\n",
    "    file.write(\"Hello Python Programming...!!!\")"
   ]
  },
  {
   "cell_type": "code",
   "execution_count": 10,
   "metadata": {},
   "outputs": [
    {
     "name": "stdout",
     "output_type": "stream",
     "text": [
      "Hello Python Programming...!!!\n"
     ]
    }
   ],
   "source": [
    "#ex3 read() 함수로 택스트 읽기\n",
    "with open('basic.txt','r') as file:\n",
    "    contents = file.read()\n",
    "\n",
    "print(contents)"
   ]
  },
  {
   "cell_type": "code",
   "execution_count": 29,
   "metadata": {},
   "outputs": [
    {
     "name": "stdout",
     "output_type": "stream",
     "text": [
      "['자자카', '가타나', '카타사', '카사다', '사가사', '나자마', '바카카', '하가라', '바파아', '차하차', '아바바', '바나타', '차자아', '라나차', '사사파', '자라사', '파가파', '다차파', '사마자', '카라하', '마바자', '자타나', '파마가', '바파나', '카자파', '사사타', '하파다', '마라파', '파하타', '타라자', '자마카', '타라라', '아다사', '차차파', '마아파', '카카사', '타차자', '다바자', '나사파', '하차나', '카파가', '자파자', '사하사', '가자자', '가라나', '자사다', '타가사', '바다마', '라가자', '자다카']\n",
      "[62, 51, 56, 59, 66, 94, 52, 77, 57, 83, 63, 83, 92, 53, 62, 96, 85, 56, 78, 75, 100, 75, 91, 100, 68, 84, 59, 77, 83, 51, 83, 72, 67, 95, 90, 55, 77, 59, 70, 65, 70, 92, 87, 56, 89, 72, 89, 74, 99, 99]\n",
      "[164, 169, 194, 184, 192, 169, 176, 176, 189, 182, 193, 162, 180, 171, 193, 164, 187, 174, 178, 170, 185, 174, 161, 150, 195, 157, 193, 182, 157, 150, 152, 152, 193, 196, 172, 192, 191, 192, 150, 185, 179, 174, 171, 199, 198, 164, 181, 182, 153, 161]\n"
     ]
    }
   ],
   "source": [
    "#랜덤하게 1000명의 키와 몸무게를 만들어서 저장을 해라\n",
    "import random\n",
    "\n",
    "korean = list('가나다라마바사아자차카타파하')\n",
    "a = list()\n",
    "weight = list()\n",
    "height = list()\n",
    "\n",
    "\n",
    "for i in range(50):\n",
    "    name = random.choice(korean)+random.choice(korean)+random.choice(korean)\n",
    "    a.append(name)\n",
    "    weight.append(random.randint(50,100))\n",
    "    height.append(random.randint(150,200))\n",
    "    \n",
    "print(a)\n",
    "print(weight)\n",
    "print(height)\n",
    "\n",
    "\n"
   ]
  },
  {
   "cell_type": "code",
   "execution_count": null,
   "metadata": {},
   "outputs": [],
   "source": []
  }
 ],
 "metadata": {
  "kernelspec": {
   "display_name": "Python 3",
   "language": "python",
   "name": "python3"
  },
  "language_info": {
   "codemirror_mode": {
    "name": "ipython",
    "version": 3
   },
   "file_extension": ".py",
   "mimetype": "text/x-python",
   "name": "python",
   "nbconvert_exporter": "python",
   "pygments_lexer": "ipython3",
   "version": "3.11.4"
  },
  "orig_nbformat": 4
 },
 "nbformat": 4,
 "nbformat_minor": 2
}
