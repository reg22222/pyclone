{
 "cells": [
  {
   "cell_type": "code",
   "execution_count": 2,
   "metadata": {},
   "outputs": [],
   "source": [
    "\n",
    "class Character:\n",
    "    def hi():\n",
    "        print(\"안녕하세요\");"
   ]
  },
  {
   "cell_type": "code",
   "execution_count": 3,
   "metadata": {},
   "outputs": [
    {
     "data": {
      "text/plain": [
       "__main__.Character"
      ]
     },
     "execution_count": 3,
     "metadata": {},
     "output_type": "execute_result"
    }
   ],
   "source": [
    "\n",
    "swordman = Character()\n",
    "#객체타입확인하기\n",
    "type(swordman)\n"
   ]
  },
  {
   "cell_type": "code",
   "execution_count": 4,
   "metadata": {},
   "outputs": [],
   "source": [
    "\n",
    "#요정 객체 생성하기\n",
    "fairy = Character()\n",
    "#도적 객체 생성하기\n",
    "thief = Character()"
   ]
  },
  {
   "cell_type": "code",
   "execution_count": 6,
   "metadata": {},
   "outputs": [
    {
     "ename": "TypeError",
     "evalue": "Character.hi() takes 0 positional arguments but 1 was given",
     "output_type": "error",
     "traceback": [
      "\u001b[0;31m---------------------------------------------------------------------------\u001b[0m",
      "\u001b[0;31mTypeError\u001b[0m                                 Traceback (most recent call last)",
      "Cell \u001b[0;32mIn[6], line 1\u001b[0m\n\u001b[0;32m----> 1\u001b[0m swordman\u001b[39m.\u001b[39;49mhi()\n",
      "\u001b[0;31mTypeError\u001b[0m: Character.hi() takes 0 positional arguments but 1 was given"
     ]
    }
   ],
   "source": [
    "swordman.hi()"
   ]
  },
  {
   "cell_type": "code",
   "execution_count": 7,
   "metadata": {},
   "outputs": [],
   "source": [
    "#개릭터 클래스 생성하기\n",
    "class Character:\n",
    "    def hi(self):\n",
    "        print(\"안녕하세요\")"
   ]
  },
  {
   "cell_type": "code",
   "execution_count": 8,
   "metadata": {},
   "outputs": [
    {
     "name": "stdout",
     "output_type": "stream",
     "text": [
      "안녕하세요\n"
     ]
    }
   ],
   "source": [
    "#검술사 객체 생성하기\n",
    "swordman = Character()\n",
    "#검술사 객체의 메서드 실행하기\n",
    "swordman.hi()"
   ]
  },
  {
   "cell_type": "code",
   "execution_count": 9,
   "metadata": {},
   "outputs": [
    {
     "name": "stdout",
     "output_type": "stream",
     "text": [
      "안녕! 난 검술사\n"
     ]
    }
   ],
   "source": [
    "#메서드 hi()에 매개변수 name 추가하기\n",
    "\n",
    "class Character:\n",
    "    def hi(self,name):\n",
    "        print(\"안녕! 난\",name)\n",
    "    \n",
    "swordman = Character()\n",
    "swordman.hi(\"검술사\")"
   ]
  },
  {
   "cell_type": "code",
   "execution_count": 11,
   "metadata": {},
   "outputs": [
    {
     "name": "stdout",
     "output_type": "stream",
     "text": [
      "도적 을/를 공격합니다!\n"
     ]
    }
   ],
   "source": [
    "#Character클래스에 메서드 attack()추가\n",
    "class Character:\n",
    "    def hi(self,name):\n",
    "        print('안녕! 난',name)\n",
    "    \n",
    "    def attack(self,target):\n",
    "        print(target,\"을/를 공격합니다!\")\n",
    "\n",
    "swordman = Character()\n",
    "swordman.attack(\"도적\")"
   ]
  },
  {
   "cell_type": "code",
   "execution_count": 15,
   "metadata": {},
   "outputs": [],
   "source": [
    "class Character:\n",
    "    def __init__(self,name,hp,ad):\n",
    "        self.name = name\n",
    "        self.strength = hp\n",
    "        self.attack_damage = ad\n",
    "        print(\"Character 클래스의 객체 생성 =>\",self.name)"
   ]
  },
  {
   "cell_type": "code",
   "execution_count": 16,
   "metadata": {},
   "outputs": [
    {
     "name": "stdout",
     "output_type": "stream",
     "text": [
      "Character 클래스의 객체 생성 => 검술사\n"
     ]
    }
   ],
   "source": [
    "#swordman = Character() # 오류\n",
    "swordman = Character(\"검술사\",100,10)"
   ]
  },
  {
   "cell_type": "code",
   "execution_count": 17,
   "metadata": {},
   "outputs": [],
   "source": [
    "class Character:\n",
    "    def __init__(self,name,hp,ad):\n",
    "        self.name = name\n",
    "        self.strength = hp\n",
    "        self.attack_damage = ad\n",
    "        print(\"Character 클래스의 객체 생성 =>\",self.name)\n",
    "        \n",
    "    #인스턴스 속성을 알려주는 메서드 추가\n",
    "    \n",
    "    def attack(self,target):\n",
    "        print(target,\"을/를 공격합니다!\")"
   ]
  },
  {
   "cell_type": "code",
   "execution_count": 43,
   "metadata": {},
   "outputs": [
    {
     "name": "stdout",
     "output_type": "stream",
     "text": [
      "Character 클래스의 객체 생성 => 검술사\n",
      "이름=> 검술사 체력=> 100 공격력=> 10\n",
      "이름=> 검술사 체력=> 120 공격력=> 15\n",
      "레벨업 후\n",
      "이름=> 검술사 체력=> 121.2 공격력=> 16.5\n"
     ]
    }
   ],
   "source": [
    "class Character:\n",
    "    def __init__(self,name,hp,ad):\n",
    "        self.name = name\n",
    "        self.strength = hp\n",
    "        self.attack_damage = ad\n",
    "        print(\"Character 클래스의 객체 생성 =>\",self.name)\n",
    "        \n",
    "    \n",
    "        \n",
    "    #인스턴스 속성을 알려주는 메서드 추가\n",
    "    def information(self):\n",
    "        print('이름=>',self.name,\"체력=>\",self.strength,\"공격력=>\",self.attack_damage)\n",
    "    \n",
    "    def attack(self,target):\n",
    "        print(target,\"을/를 공격합니다!\")\n",
    "        \n",
    "    def level_up(self):\n",
    "        self.strength += 1.2\n",
    "        self.attack_damage += 1.5\n",
    "    \n",
    "\n",
    "#객체 생성\n",
    "swordman = Character(\"검술사\",100,10)\n",
    "#인스턴스 정보 확인\n",
    "swordman.information()\n",
    "\n",
    "#인스턴스 속성 변경하기\n",
    "swordman.strength = 120\n",
    "swordman.attack_damage = 15\n",
    "\n",
    "#검술사 체력을 120,공격력은 15으로 변경\n",
    "swordman.information()\n",
    "\n",
    "swordman.level_up()\n",
    "print(\"레벨업 후\")\n",
    "swordman.information()\n"
   ]
  },
  {
   "cell_type": "code",
   "execution_count": 39,
   "metadata": {},
   "outputs": [],
   "source": [
    "class Character:\n",
    "    def __init__(self,name,hp,ad) -> None:\n",
    "        self.name = name\n",
    "        self.strength = hp\n",
    "        self.attack_damage = ad\n",
    "        print(\"Character 클래스의 객체 생성 =>\",self.name)\n",
    "    \n",
    "    def information(self):\n",
    "        print(\"이름=>\",self.name,\"체력=>\",self.strength,\"공격력=>\",self.attack_damage)\n",
    "    \n",
    "    def attack(self,target):\n",
    "        print(self.name,\"이/가\",target.name,\"(\",target.strength,\")\",\"을/를 공격합니다!!\")\n",
    "        \n",
    "        target.strength = target.strength - self.attack_damage\n",
    "        print(\"공격성공!\",target.name,\"(\",target.strength,\")\")\n",
    "    \n",
    "    def level_up(self):\n",
    "        self.strength += 1.2\n",
    "        self.attack_damage += 5\n",
    "        \n",
    "\n",
    "        "
   ]
  },
  {
   "cell_type": "code",
   "execution_count": 32,
   "metadata": {},
   "outputs": [
    {
     "name": "stdout",
     "output_type": "stream",
     "text": [
      "Character 클래스의 객체 생성 => 검술사\n",
      "Character 클래스의 객체 생성 => 요정\n",
      "Character 클래스의 객체 생성 => 도적\n"
     ]
    }
   ],
   "source": [
    "swordman = Character(\"검술사\",100,10)\n",
    "fairy = Character('요정',60,5)\n",
    "thief = Character(\"도적\",85,8)\n"
   ]
  },
  {
   "cell_type": "code",
   "execution_count": 33,
   "metadata": {},
   "outputs": [
    {
     "name": "stdout",
     "output_type": "stream",
     "text": [
      "검술사 이/가 요정 ( 60 ) 을/를 공격합니다!!\n",
      "공격성공! 요정 ( 50 )\n"
     ]
    }
   ],
   "source": [
    "swordman.attack(fairy)"
   ]
  },
  {
   "cell_type": "code",
   "execution_count": 34,
   "metadata": {},
   "outputs": [
    {
     "name": "stdout",
     "output_type": "stream",
     "text": [
      "도적 이/가 검술사 ( 100 ) 을/를 공격합니다!!\n",
      "공격성공! 검술사 ( 92 )\n"
     ]
    }
   ],
   "source": [
    "thief.attack(swordman)"
   ]
  },
  {
   "cell_type": "code",
   "execution_count": 35,
   "metadata": {},
   "outputs": [
    {
     "name": "stdout",
     "output_type": "stream",
     "text": [
      "요정 이/가 도적 ( 85 ) 을/를 공격합니다!!\n",
      "공격성공! 도적 ( 80 )\n"
     ]
    }
   ],
   "source": [
    "fairy.attack(thief)"
   ]
  },
  {
   "cell_type": "code",
   "execution_count": 37,
   "metadata": {},
   "outputs": [
    {
     "ename": "SyntaxError",
     "evalue": "incomplete input (838951584.py, line 10)",
     "output_type": "error",
     "traceback": [
      "\u001b[0;36m  Cell \u001b[0;32mIn[37], line 10\u001b[0;36m\u001b[0m\n\u001b[0;31m    def buy(self,name,price,stock):\u001b[0m\n\u001b[0m                                   ^\u001b[0m\n\u001b[0;31mSyntaxError\u001b[0m\u001b[0;31m:\u001b[0m incomplete input\n"
     ]
    }
   ],
   "source": [
    "class Product:\n",
    "    def __init__(self,n,p,s) -> None:\n",
    "        self.name ,self.price,self.stock = n,p,s\n",
    "        \n",
    "    def information(self,name,price,stock):\n",
    "        print(\"상품 이름 : \",self.name)\n",
    "        print(\"상품 가격 : \",self.price)\n",
    "        print(\"남은 재고 : \",self.stock)\n",
    "        \n",
    "    def buy(self,):"
   ]
  },
  {
   "cell_type": "code",
   "execution_count": null,
   "metadata": {},
   "outputs": [],
   "source": []
  }
 ],
 "metadata": {
  "kernelspec": {
   "display_name": "Python 3",
   "language": "python",
   "name": "python3"
  },
  "language_info": {
   "codemirror_mode": {
    "name": "ipython",
    "version": 3
   },
   "file_extension": ".py",
   "mimetype": "text/x-python",
   "name": "python",
   "nbconvert_exporter": "python",
   "pygments_lexer": "ipython3",
   "version": "3.11.4"
  },
  "orig_nbformat": 4
 },
 "nbformat": 4,
 "nbformat_minor": 2
}
