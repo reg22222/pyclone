{
 "cells": [
  {
   "cell_type": "code",
   "execution_count": 2,
   "metadata": {},
   "outputs": [
    {
     "name": "stdout",
     "output_type": "stream",
     "text": [
      "34 12\n"
     ]
    }
   ],
   "source": [
    "a ,b = 12,34\n",
    "temp = a\n",
    "a = b\n",
    "b = temp\n",
    "print(a,b)"
   ]
  },
  {
   "cell_type": "code",
   "execution_count": 4,
   "metadata": {},
   "outputs": [
    {
     "name": "stdout",
     "output_type": "stream",
     "text": [
      "요소 추가 이전: {}\n",
      "요소 추가 이후: {'작가': '황미나', '연재작': '이오니아의 푸른 별', '최근작': '보톡스'}\n",
      "요소 제거 이후 {'작가': '황미나', '최근작': '보톡스'}\n"
     ]
    }
   ],
   "source": [
    "animation = {}\n",
    "\n",
    "print(\"요소 추가 이전:\",animation)\n",
    "\n",
    "animation.update({'작가':'황미나', '연재작':'이오니아의 푸른 별', '최근작':'보톡스'})\n",
    "print(\"요소 추가 이후:\",animation)\n",
    "\n",
    "del animation['연재작']\n",
    "print(\"요소 제거 이후\",animation)"
   ]
  },
  {
   "cell_type": "code",
   "execution_count": 6,
   "metadata": {},
   "outputs": [
    {
     "name": "stdout",
     "output_type": "stream",
     "text": [
      "초록색= green\n",
      "{'빨강': 'red', '주황색': 'orange', '노랑': 'yellow', '초': 'green', '남': 'navy', '보': 'purple', '흰': 'white', '주황': 'juhwang'}\n"
     ]
    }
   ],
   "source": [
    "rainbow = {'빨강':'red','주황색':'orange','노랑':'yellow','초':'green','파':'blue','남':'navy','보':'purple'}\n",
    "\n",
    "print('초록색=',rainbow['초'])\n",
    "\n",
    "rainbow.update({'흰':'white'})\n",
    "\n",
    "rainbow[\"주황\"] = 'juhwang'\n",
    "\n",
    "del rainbow['파']\n",
    "\n",
    "print(rainbow)"
   ]
  },
  {
   "cell_type": "code",
   "execution_count": 9,
   "metadata": {},
   "outputs": [
    {
     "name": "stdout",
     "output_type": "stream",
     "text": [
      "dict_keys(['boy', 'school', 'book'])\n",
      "dict_values(['소년', '학교', '책'])\n",
      "dict_items([('boy', '소년'), ('school', '학교'), ('book', '책')])\n"
     ]
    }
   ],
   "source": [
    "dic = {'boy':'소년','school':'학교','book':'책'}\n",
    "print(dic.keys())\n",
    "print(dic.values())\n",
    "print(dic.items())\n"
   ]
  },
  {
   "cell_type": "code",
   "execution_count": 10,
   "metadata": {},
   "outputs": [
    {
     "name": "stdout",
     "output_type": "stream",
     "text": [
      "소년\n",
      "None\n",
      "사전에 없는 단어 입니다.\n"
     ]
    }
   ],
   "source": [
    "dic = {'boy':'소년', 'school':'학교', 'book':'책'}\n",
    "print(dic.get('boy'))\n",
    "print(dic.get('student'))\n",
    "print(dic.get('student','사전에 없는 단어 입니다.'))"
   ]
  },
  {
   "cell_type": "code",
   "execution_count": 11,
   "metadata": {},
   "outputs": [],
   "source": [
    "dic = {'boy':'소년','school':'학교','book':'책'}"
   ]
  },
  {
   "cell_type": "code",
   "execution_count": 12,
   "metadata": {},
   "outputs": [
    {
     "name": "stdout",
     "output_type": "stream",
     "text": [
      "boy\n",
      "school\n",
      "book\n"
     ]
    }
   ],
   "source": [
    "for key in dic:\n",
    "    print(key)"
   ]
  },
  {
   "cell_type": "code",
   "execution_count": 15,
   "metadata": {},
   "outputs": [
    {
     "name": "stdout",
     "output_type": "stream",
     "text": [
      "소년\n",
      "학교\n",
      "책\n"
     ]
    }
   ],
   "source": [
    "for value in dic.values():\n",
    "    print(value)\n"
   ]
  },
  {
   "cell_type": "code",
   "execution_count": 17,
   "metadata": {},
   "outputs": [
    {
     "name": "stdout",
     "output_type": "stream",
     "text": [
      "('boy', '소년')\n",
      "('school', '학교')\n",
      "('book', '책')\n"
     ]
    }
   ],
   "source": [
    "for item in dic.items():\n",
    "    print(item)"
   ]
  },
  {
   "cell_type": "code",
   "execution_count": 18,
   "metadata": {},
   "outputs": [
    {
     "name": "stdout",
     "output_type": "stream",
     "text": [
      "#우리동네 애왕 동물들#\n",
      "이름: 구름, 나이: 5\n",
      "이름: 초코, 나이: 3\n",
      "이름: 아지, 나이: 1\n",
      "이름: 호랑이, 나이: 1\n"
     ]
    }
   ],
   "source": [
    "pet = [{'name':'구름','age':'5'},\n",
    "    {'name':'초코','age':'3'},\n",
    "    {'name':'아지','age':'1'},\n",
    "    {'name':'호랑이','age':'1'}]\n",
    "\n",
    "print('#우리동네 애왕 동물들#')\n",
    "for animal in pet:\n",
    "    print('이름: {}, 나이: {}'.format(animal['name'], animal['age']))"
   ]
  },
  {
   "cell_type": "code",
   "execution_count": 19,
   "metadata": {},
   "outputs": [
    {
     "name": "stdout",
     "output_type": "stream",
     "text": [
      "{1: 3, 2: 1, 3: 3, 4: 1, 5: 4, 6: 1, 8: 1, 9: 2, 7: 2}\n"
     ]
    }
   ],
   "source": [
    "numbers = [1, 2, 3, 4, 5, 6, 8, 9, 5, 1, 7, 3, 5, 1, 3, 5, 7, 9]\n",
    "count = {}\n",
    "\n",
    "for n in numbers:\n",
    "    if n in count:\n",
    "        count[n] += 1\n",
    "    else:\n",
    "        count[n] = 1\n",
    "\n",
    "print(count)"
   ]
  },
  {
   "cell_type": "code",
   "execution_count": 20,
   "metadata": {},
   "outputs": [
    {
     "name": "stdout",
     "output_type": "stream",
     "text": [
      "{'b': 3, 'y': 2, 't': 1, 'h': 1, 'e': 2, 'r': 2, 'i': 1, 'v': 1, 's': 1, 'o': 2, 'f': 1, 'a': 1, 'l': 1, 'n': 1}\n"
     ]
    }
   ],
   "source": [
    "song = \"by the rivers of babylon\"\n",
    "alphabet = dict()\n",
    "\n",
    "for c in song:\n",
    "    if c.isalpha() == False:\n",
    "        continue  \n",
    "    c = c.lower()  \n",
    "    if c in alphabet:\n",
    "        alphabet[c] += 1\n",
    "    else:\n",
    "        alphabet[c] = 1\n",
    "\n",
    "print(alphabet)\n"
   ]
  },
  {
   "cell_type": "code",
   "execution_count": 21,
   "metadata": {},
   "outputs": [
    {
     "name": "stdout",
     "output_type": "stream",
     "text": [
      "Hello World!\n"
     ]
    }
   ],
   "source": [
    "def Hi():\n",
    "    print(\"Hello World!\")\n",
    "\n",
    "Hi()\n"
   ]
  },
  {
   "cell_type": "code",
   "execution_count": 22,
   "metadata": {},
   "outputs": [
    {
     "name": "stdout",
     "output_type": "stream",
     "text": [
      "6.0\n"
     ]
    }
   ],
   "source": [
    "def avg(num1, num2, num3):\n",
    "    average = (num1 + num2 + num3) / 3\n",
    "    return average\n",
    "\n",
    "result = avg(3, 5, 10)\n",
    "print(result)\n"
   ]
  },
  {
   "cell_type": "code",
   "execution_count": 24,
   "metadata": {},
   "outputs": [
    {
     "name": "stdout",
     "output_type": "stream",
     "text": [
      "안녕하세요 즐거운 파이썬 \n",
      "안녕하세요 즐거운 파이썬 \n",
      "즐거운 파이썬 \n"
     ]
    }
   ],
   "source": [
    "def print_n_times(n, *values):\n",
    "    for i in range(n):\n",
    "        for value in values:\n",
    "            print(value, end=' ')\n",
    "        print()\n",
    "\n",
    "# 예제 호출\n",
    "print_n_times(2, '안녕하세요', '즐거운', '파이썬')\n",
    "print_n_times(1, '즐거운', '파이썬')\n"
   ]
  },
  {
   "cell_type": "code",
   "execution_count": 26,
   "metadata": {},
   "outputs": [
    {
     "name": "stdout",
     "output_type": "stream",
     "text": [
      "15\n",
      "6\n"
     ]
    }
   ],
   "source": [
    "def add_mul(choice, *args):\n",
    "    if choice == 'add':\n",
    "        result = 0\n",
    "        for i in args:\n",
    "            result += i\n",
    "    elif choice == 'mul':\n",
    "        result = 1\n",
    "        for i in args:\n",
    "            result *= i\n",
    "    return result\n",
    "\n",
    "print(add_mul('add', 1, 2, 3, 4, 5))\n",
    "print(add_mul('mul', 1, 2, 3))\n"
   ]
  },
  {
   "cell_type": "code",
   "execution_count": 27,
   "metadata": {},
   "outputs": [
    {
     "name": "stdout",
     "output_type": "stream",
     "text": [
      "1 부터 100 까지 숫자 중 2 간격씩 더한 값은 2500\n",
      "1 부터 100 까지 숫자 중 1 간격씩 더한 값은 5050\n"
     ]
    }
   ],
   "source": [
    "def calcstep(begin, end, step=1):\n",
    "    sum = 0\n",
    "    for num in range(begin, end + 1, step):\n",
    "        sum += num\n",
    "    print(f\"{begin} 부터 {end} 까지 숫자 중 {step} 간격씩 더한 값은 {sum}\")\n",
    "\n",
    "calcstep(1, 100, 2)\n",
    "calcstep(1, 100)\n"
   ]
  },
  {
   "cell_type": "code",
   "execution_count": 28,
   "metadata": {},
   "outputs": [
    {
     "name": "stdout",
     "output_type": "stream",
     "text": [
      "1 2 3 4 5\n"
     ]
    }
   ],
   "source": [
    "def fn(a,b,c,d,e):\n",
    "    print(a,b,c,d,e)\n",
    "\n",
    "fn(1,2,d=4,c=3,e=5)"
   ]
  },
  {
   "cell_type": "code",
   "execution_count": 29,
   "metadata": {},
   "outputs": [
    {
     "name": "stdout",
     "output_type": "stream",
     "text": [
      "A위치입니다.\n"
     ]
    }
   ],
   "source": [
    "def test():\n",
    "    print('A위치입니다.')\n",
    "    return\n",
    "    print(\"B위치입니다.\")\n",
    "\n",
    "test()\n"
   ]
  },
  {
   "cell_type": "code",
   "execution_count": 30,
   "metadata": {},
   "outputs": [
    {
     "name": "stdout",
     "output_type": "stream",
     "text": [
      "최소: -21 최대: 89\n"
     ]
    }
   ],
   "source": [
    "def min_max(*args):\n",
    "    min = args[0]\n",
    "    max = args[0]\n",
    "    for arg in args:\n",
    "        if min > arg:\n",
    "            min = arg\n",
    "        if max < arg:\n",
    "            max = arg\n",
    "    return min, max\n",
    "\n",
    "min, max = min_max(52, -3, 23, 89, -21)\n",
    "print(f\"최소: {min} 최대: {max}\")\n"
   ]
  },
  {
   "cell_type": "code",
   "execution_count": 31,
   "metadata": {},
   "outputs": [
    {
     "name": "stdout",
     "output_type": "stream",
     "text": [
      "현재점수: 5\n",
      "현재점수: 10\n",
      "최종점수: 9\n"
     ]
    }
   ],
   "source": [
    "def reward_penalty(kind, points):\n",
    "    global current_point  \n",
    "    print('현재점수:', current_point)\n",
    "    # 상점일 경우\n",
    "    if kind == '상점':\n",
    "        current_point += points\n",
    "    # 벌점일 경우\n",
    "    elif kind == '벌점':\n",
    "        current_point -= points\n",
    "\n",
    "current_point = 5\n",
    "reward_penalty('상점', 5)\n",
    "reward_penalty('벌점', 1)\n",
    "print('최종점수:', current_point)\n"
   ]
  },
  {
   "cell_type": "code",
   "execution_count": 33,
   "metadata": {},
   "outputs": [],
   "source": [
    "file = open(\"basic.txt\", \"w\")  \n",
    "file.write(\"Hello Python Programming\")  \n",
    "file.close()\n",
    "\n"
   ]
  },
  {
   "cell_type": "code",
   "execution_count": 32,
   "metadata": {},
   "outputs": [],
   "source": [
    "with open(\"basic.txt\", \"w\") as file:\n",
    "    file.write(\"Hello Python Programming\")\n",
    "\n"
   ]
  },
  {
   "cell_type": "code",
   "execution_count": 35,
   "metadata": {},
   "outputs": [
    {
     "name": "stdout",
     "output_type": "stream",
     "text": [
      "Hello Python Programming\n"
     ]
    }
   ],
   "source": [
    "with open(\"basic.txt\", \"r\") as file:\n",
    "    contents = file.read()\n",
    "\n",
    "print(contents)\n"
   ]
  },
  {
   "cell_type": "code",
   "execution_count": null,
   "metadata": {},
   "outputs": [],
   "source": []
  },
  {
   "cell_type": "code",
   "execution_count": 36,
   "metadata": {},
   "outputs": [],
   "source": [
    "import random\n",
    "#간단한 한글 리스트 만들기\n",
    "\n",
    "hanguls = list('가나다라마바사아자차카타파하')\n",
    "\n",
    "#파일 생성하기\n",
    "with open('info.txt','w') as file:\n",
    "    for i in range(50):\n",
    "        name = random.choice(hanguls) + random.choice(hanguls)\n",
    "        weight = random.randrange(40,100)\n",
    "        height = random.randrange(140,200)\n",
    "        file.write(f\"{name},{weight},{height}\\n\")"
   ]
  },
  {
   "cell_type": "code",
   "execution_count": 38,
   "metadata": {},
   "outputs": [
    {
     "name": "stdout",
     "output_type": "stream",
     "text": [
      "이름: 사바\n",
      "몸무게: 99\n",
      "키: 143\n",
      "BMI: 48.41312533620226\n",
      "\n",
      "이름: 가마\n",
      "몸무게: 67\n",
      "키: 188\n",
      "BMI: 18.956541421457676\n",
      "\n",
      "이름: 사차\n",
      "몸무게: 56\n",
      "키: 164\n",
      "BMI: 20.820939916716245\n",
      "\n",
      "이름: 차파\n",
      "몸무게: 71\n",
      "키: 187\n",
      "BMI: 20.303697560696612\n",
      "\n",
      "이름: 나나\n",
      "몸무게: 52\n",
      "키: 164\n",
      "BMI: 19.333729922665082\n",
      "\n",
      "이름: 바가\n",
      "몸무게: 58\n",
      "키: 151\n",
      "BMI: 25.437480812245077\n",
      "\n",
      "이름: 자나\n",
      "몸무게: 43\n",
      "키: 192\n",
      "BMI: 11.664496527777779\n",
      "\n",
      "이름: 타다\n",
      "몸무게: 57\n",
      "키: 199\n",
      "BMI: 14.393575919800005\n",
      "\n",
      "이름: 파차\n",
      "몸무게: 97\n",
      "키: 194\n",
      "BMI: 25.77319587628866\n",
      "\n",
      "이름: 아마\n",
      "몸무게: 72\n",
      "키: 169\n",
      "BMI: 25.209201358495854\n",
      "\n",
      "이름: 파사\n",
      "몸무게: 65\n",
      "키: 184\n",
      "BMI: 19.198960302457465\n",
      "\n",
      "이름: 자바\n",
      "몸무게: 72\n",
      "키: 165\n",
      "BMI: 26.44628099173554\n",
      "\n",
      "이름: 차하\n",
      "몸무게: 54\n",
      "키: 186\n",
      "BMI: 15.608740894901143\n",
      "\n",
      "이름: 라카\n",
      "몸무게: 42\n",
      "키: 160\n",
      "BMI: 16.406249999999996\n",
      "\n",
      "이름: 아자\n",
      "몸무게: 77\n",
      "키: 174\n",
      "BMI: 25.43268595587264\n",
      "\n",
      "이름: 하가\n",
      "몸무게: 95\n",
      "키: 194\n",
      "BMI: 25.241789775746625\n",
      "\n",
      "이름: 라다\n",
      "몸무게: 95\n",
      "키: 144\n",
      "BMI: 45.814043209876544\n",
      "\n",
      "이름: 다마\n",
      "몸무게: 60\n",
      "키: 154\n",
      "BMI: 25.2993759487266\n",
      "\n",
      "이름: 바자\n",
      "몸무게: 70\n",
      "키: 195\n",
      "BMI: 18.408941485864563\n",
      "\n",
      "이름: 라아\n",
      "몸무게: 68\n",
      "키: 186\n",
      "BMI: 19.65545149728292\n",
      "\n",
      "이름: 사차\n",
      "몸무게: 55\n",
      "키: 185\n",
      "BMI: 16.070124178232284\n",
      "\n",
      "이름: 다타\n",
      "몸무게: 68\n",
      "키: 192\n",
      "BMI: 18.446180555555557\n",
      "\n",
      "이름: 나사\n",
      "몸무게: 81\n",
      "키: 180\n",
      "BMI: 25.0\n",
      "\n",
      "이름: 아카\n",
      "몸무게: 75\n",
      "키: 140\n",
      "BMI: 38.26530612244898\n",
      "\n",
      "이름: 마라\n",
      "몸무게: 65\n",
      "키: 159\n",
      "BMI: 25.71100826707804\n",
      "\n",
      "이름: 자사\n",
      "몸무게: 52\n",
      "키: 183\n",
      "BMI: 15.527486637403324\n",
      "\n",
      "이름: 타라\n",
      "몸무게: 50\n",
      "키: 140\n",
      "BMI: 25.510204081632658\n",
      "\n",
      "이름: 카다\n",
      "몸무게: 55\n",
      "키: 150\n",
      "BMI: 24.444444444444443\n",
      "\n",
      "이름: 아나\n",
      "몸무게: 44\n",
      "키: 155\n",
      "BMI: 18.314255983350673\n",
      "\n",
      "이름: 파카\n",
      "몸무게: 74\n",
      "키: 177\n",
      "BMI: 23.620287912158062\n",
      "\n",
      "이름: 하차\n",
      "몸무게: 82\n",
      "키: 154\n",
      "BMI: 34.57581379659302\n",
      "\n",
      "이름: 나하\n",
      "몸무게: 64\n",
      "키: 164\n",
      "BMI: 23.795359904818564\n",
      "\n",
      "이름: 다사\n",
      "몸무게: 72\n",
      "키: 176\n",
      "BMI: 23.243801652892564\n",
      "\n",
      "이름: 바다\n",
      "몸무게: 47\n",
      "키: 192\n",
      "BMI: 12.749565972222223\n",
      "\n",
      "이름: 차라\n",
      "몸무게: 94\n",
      "키: 183\n",
      "BMI: 28.068918152229088\n",
      "\n",
      "이름: 카바\n",
      "몸무게: 66\n",
      "키: 143\n",
      "BMI: 32.27541689080151\n",
      "\n",
      "이름: 라사\n",
      "몸무게: 97\n",
      "키: 179\n",
      "BMI: 30.273711806747606\n",
      "\n",
      "이름: 마마\n",
      "몸무게: 87\n",
      "키: 181\n",
      "BMI: 26.555965935105768\n",
      "\n",
      "이름: 가파\n",
      "몸무게: 40\n",
      "키: 161\n",
      "BMI: 15.43150341422013\n",
      "\n",
      "이름: 아사\n",
      "몸무게: 66\n",
      "키: 161\n",
      "BMI: 25.461980633463213\n",
      "\n",
      "이름: 나바\n",
      "몸무게: 91\n",
      "키: 195\n",
      "BMI: 23.931623931623932\n",
      "\n",
      "이름: 하하\n",
      "몸무게: 59\n",
      "키: 184\n",
      "BMI: 17.426748582230623\n",
      "\n",
      "이름: 카차\n",
      "몸무게: 66\n",
      "키: 144\n",
      "BMI: 31.828703703703706\n",
      "\n",
      "이름: 가마\n",
      "몸무게: 62\n",
      "키: 195\n",
      "BMI: 16.305062458908615\n",
      "\n",
      "이름: 하가\n",
      "몸무게: 47\n",
      "키: 185\n",
      "BMI: 13.732651570489407\n",
      "\n",
      "이름: 가라\n",
      "몸무게: 60\n",
      "키: 181\n",
      "BMI: 18.314459265590184\n",
      "\n",
      "이름: 가자\n",
      "몸무게: 53\n",
      "키: 169\n",
      "BMI: 18.556773222226116\n",
      "\n",
      "이름: 마사\n",
      "몸무게: 54\n",
      "키: 179\n",
      "BMI: 16.853406572828565\n",
      "\n",
      "이름: 파사\n",
      "몸무게: 42\n",
      "키: 171\n",
      "BMI: 14.363393864778908\n",
      "\n",
      "이름: 나파\n",
      "몸무게: 56\n",
      "키: 164\n",
      "BMI: 20.820939916716245\n",
      "\n"
     ]
    }
   ],
   "source": [
    "with open('info.txt','r') as file:\n",
    "    for line in file:\n",
    "        name, weight, height = line.strip().split(',')\n",
    "        bmi = int(weight)/((int(height)/100)**2)\n",
    "        print(\"\\n\".join([\n",
    "            '이름: {}',\n",
    "            '몸무게: {}',\n",
    "            '키: {}',\n",
    "            'BMI: {}'\n",
    "        ]).format(name,weight,height,bmi))\n",
    "        print()"
   ]
  },
  {
   "cell_type": "code",
   "execution_count": 50,
   "metadata": {},
   "outputs": [],
   "source": [
    "class Character:\n",
    "    def __init__(self,name,hp,ad) -> None:\n",
    "        self.name = name\n",
    "        self.strength = hp\n",
    "        self.attack_damage = ad\n",
    "        print(\"Character 클래스의 객체 생성 =>\",self.name)\n",
    "    \n",
    "    def information(self):\n",
    "        print(\"이름=>\",self.name,\"체력=>\",self.strength,\"공격력=>\",self.attack_damage)\n",
    "    \n",
    "    def attack(self,target):\n",
    "        print(self.name,\"이/가\",target.name,\"을 공격합니다!!\")\n",
    "        \n",
    "        target.strength = target.strength - self.attack_damage\n",
    "        print(\"공격성공!\",target.name,\"( 남은체력 : \",target.strength,\")\")\n",
    "        \n",
    "\n",
    "        "
   ]
  },
  {
   "cell_type": "code",
   "execution_count": 51,
   "metadata": {},
   "outputs": [
    {
     "name": "stdout",
     "output_type": "stream",
     "text": [
      "Character 클래스의 객체 생성 => 검술사\n",
      "Character 클래스의 객체 생성 => 요정\n",
      "Character 클래스의 객체 생성 => 도적\n"
     ]
    }
   ],
   "source": [
    "swordsman = Character('검술사',100,10)\n",
    "fairy = Character('요정',60,5)\n",
    "thief = Character('도적',85,8)"
   ]
  },
  {
   "cell_type": "code",
   "execution_count": 52,
   "metadata": {},
   "outputs": [
    {
     "name": "stdout",
     "output_type": "stream",
     "text": [
      "검술사 이/가 요정 을 공격합니다!!\n",
      "공격성공! 요정 ( 남은체력 :  50 )\n",
      "도적 이/가 요정 을 공격합니다!!\n",
      "공격성공! 요정 ( 남은체력 :  42 )\n"
     ]
    }
   ],
   "source": [
    "swordsman.attack(fairy)\n",
    "\n",
    "thief.attack(fairy)"
   ]
  },
  {
   "cell_type": "code",
   "execution_count": null,
   "metadata": {},
   "outputs": [],
   "source": []
  }
 ],
 "metadata": {
  "kernelspec": {
   "display_name": "Python 3",
   "language": "python",
   "name": "python3"
  },
  "language_info": {
   "codemirror_mode": {
    "name": "ipython",
    "version": 3
   },
   "file_extension": ".py",
   "mimetype": "text/x-python",
   "name": "python",
   "nbconvert_exporter": "python",
   "pygments_lexer": "ipython3",
   "version": "3.11.4"
  },
  "orig_nbformat": 4
 },
 "nbformat": 4,
 "nbformat_minor": 2
}
